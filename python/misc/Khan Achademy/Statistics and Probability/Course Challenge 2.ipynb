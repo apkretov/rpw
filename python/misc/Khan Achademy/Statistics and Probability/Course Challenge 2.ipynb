{
 "cells": [
  {
   "cell_type": "code",
   "execution_count": 12,
   "metadata": {},
   "outputs": [
    {
     "name": "stdout",
     "output_type": "stream",
     "text": [
      "2.9979515668685277\n"
     ]
    }
   ],
   "source": [
    "from scipy.stats import t\n",
    "print(t.ppf(.99, 7))"
   ]
  },
  {
   "cell_type": "code",
   "execution_count": 13,
   "metadata": {},
   "outputs": [
    {
     "name": "stdout",
     "output_type": "stream",
     "text": [
      " pictures  newspapers  pictures_newspapers\n",
      "        0           2                    0\n",
      "        1           0                    0\n",
      "        2           0                    0\n",
      "        3           2                    6\n",
      "        4           1                    4\n",
      "Total pictures_newspapers: 10\n",
      "Total newspapers: 5\n"
     ]
    }
   ],
   "source": [
    "import pandas as pd\n",
    "\n",
    "pic = 'pictures'\n",
    "newsp = 'newspapers'\n",
    "pic_np = pic + '_' + newsp\n",
    "\n",
    "df = pd.DataFrame({\n",
    "    pic:   (0, 1, 2, 3, 4),\n",
    "    newsp: (2, 0, 0, 2, 1)\n",
    "})\n",
    "df[pic_np] = df.pictures * df.newspapers\n",
    "\n",
    "print(df.to_string(index=False))\n",
    "print('Total ' + str(pic_np) + ': ' + str(df[pic_np].sum()))\n",
    "print('Total ' + str(newsp) + ': ' + str(df[newsp].sum()))"
   ]
  },
  {
   "cell_type": "code",
   "execution_count": 14,
   "metadata": {},
   "outputs": [
    {
     "name": "stdout",
     "output_type": "stream",
     "text": [
      "   Digit  Observed counts\n",
      "0      0               93\n",
      "1      1              116\n",
      "2      2              103\n",
      "3      3              103\n",
      "4      4               93\n",
      "5      5               97\n",
      "6      6               94\n",
      "7      7               95\n",
      "8      8              101\n",
      "9      9              105\n",
      "\n",
      "Total Digit: 45\n",
      "Total Observed counts: 1000\n",
      "Item[1, 1]:  116\n",
      "Expected count of the digit 1: 0.116\n"
     ]
    }
   ],
   "source": [
    "import pandas as pd\n",
    "import numpy as np\n",
    "\n",
    "col1 = 'Digit'\n",
    "col2 = 'Observed counts'\n",
    "n = 9 + 1 #0 to 9.\n",
    "\n",
    "df = pd.DataFrame({\n",
    "    col1: np.arange(n),\n",
    "    col2: (93, 116, 103, 103, 93, 97, 94, 95, 101, 105)\n",
    "})\n",
    "print(df.to_string())\n",
    "\n",
    "sum1 = df[col1].sum()\n",
    "sum2 = df[col2].sum()\n",
    "\n",
    "print('\\nTotal ' + col1 + ': ' + str(sum1))\n",
    "print('Total ' + col2 + ': ' + str(sum2))\n",
    "\n",
    "expected_count_1 = df.iloc[1, 1] / sum2\n",
    "print('Item[1, 1]: ', df.iloc[1, 1])\n",
    "print('Expected count of the digit 1: ' + str(expected_count_1))"
   ]
  },
  {
   "cell_type": "code",
   "execution_count": 15,
   "metadata": {},
   "outputs": [
    {
     "name": "stdout",
     "output_type": "stream",
     "text": [
      "   Income  P(Income)  Income * P(Income)\n",
      "0     350       0.65               227.5\n",
      "1     450       0.35               157.5\n",
      "\n",
      "Total Income: 800\n",
      "Total P(Income): 1.0\n",
      "Total Income * P(Income): 385.0\n"
     ]
    }
   ],
   "source": [
    "import pandas as pd\n",
    "\n",
    "col1 = 'Income'\n",
    "col2 = 'P(Income)'\n",
    "col3 = col1 + ' * ' + col2\n",
    "\n",
    "df = pd.DataFrame({\n",
    "    col1: (350, 450),\n",
    "    col2: (0.65, 0.35)\n",
    "})\n",
    "df[col3] = df[col1] * df[col2]\n",
    "\n",
    "print(df.to_string())\n",
    "\n",
    "sum1 = df[col1].sum()\n",
    "print('\\nTotal ' + col1 + ': ' + str(sum1))\n",
    "\n",
    "sum2 = df[col2].sum()\n",
    "print('Total ' + col2 + ': ' + str(sum2))\n",
    "\n",
    "sum3 = df[col3].sum()\n",
    "print('Total ' + col3 + ': ' + str(sum3))"
   ]
  },
  {
   "cell_type": "code",
   "execution_count": 16,
   "metadata": {},
   "outputs": [
    {
     "name": "stdout",
     "output_type": "stream",
     "text": [
      "ts: 1.7530503556925547\n",
      "min: 12.483992090953562\n",
      "max: 16.516007909046436\n"
     ]
    }
   ],
   "source": [
    "from scipy.stats import t\n",
    "import math\n",
    "\n",
    "n = 16\n",
    "x = 14.5\n",
    "sx = 4.6\n",
    "ts = t.ppf(.95, n - 1)\n",
    "print('ts: ' + str(ts))\n",
    "\n",
    "se = ts * sx / math.sqrt(n)\n",
    "min = x - se\n",
    "max = x + se\n",
    "print('min: ' + str(min))\n",
    "print('max: ' + str(max))"
   ]
  },
  {
   "cell_type": "code",
   "execution_count": 17,
   "metadata": {},
   "outputs": [
    {
     "name": "stdout",
     "output_type": "stream",
     "text": [
      "std_dev: 0.018\n",
      "z_left: -0.559\n",
      "z_right: 0.559\n",
      "cd1: 0.2881\n",
      "cd2: 0.7119\n",
      "p_min_to_max: 0.4238\n"
     ]
    }
   ],
   "source": [
    "import math\n",
    "from scipy.stats import norm\n",
    "\n",
    "p = 0.8\n",
    "p_min = 0.79\n",
    "p_max = 0.81\n",
    "n = 500\n",
    "\n",
    "std_dev = math.sqrt(p * (1 - p) / n)\n",
    "z_left = (p_min - p) / std_dev\n",
    "z_right = (p_max - p) / std_dev\n",
    "cd1 = norm.cdf(z_left)\n",
    "cd2 = norm.cdf(z_right)\n",
    "p_min_to_max = cd2 - cd1\n",
    "\n",
    "print('std_dev: ' + str(round(std_dev, 3)))\n",
    "print('z_left: ' + str(round(z_left, 3)))\n",
    "print('z_right: ' + str(round(z_right, 3)))\n",
    "print('cd1: ' + str(round(cd1, 4)))\n",
    "print('cd2: ' + str(round(cd2, 4)))\n",
    "print('p_min_to_max: ' + str(round(p_min_to_max, 4)))"
   ]
  },
  {
   "cell_type": "code",
   "execution_count": 18,
   "metadata": {},
   "outputs": [
    {
     "name": "stdout",
     "output_type": "stream",
     "text": [
      "  # of vechicles  Vechicles\n",
      "0            Car          8\n",
      "1            Van          5\n",
      "2          Truck          4\n",
      "3     Motorcycle          3\n",
      "\n",
      "Total Vechicles: 20\n",
      "\n",
      "# of vechicles    Van\n",
      "Vechicles           5\n",
      "\n",
      "Expected van: 0.116\n"
     ]
    }
   ],
   "source": [
    "import pandas as pd\n",
    "import numpy as np\n",
    "\n",
    "col1 = '# of vechicles'\n",
    "col2 = 'Vechicles'\n",
    "\n",
    "df = pd.DataFrame({\n",
    "    col1: ('Car', 'Van', 'Truck', 'Motorcycle'),\n",
    "    col2: (8, 5, 4, 3)\n",
    "})\n",
    "\n",
    "print(df.to_string())\n",
    "\n",
    "sum1 = df[col1].sum()\n",
    "sum2 = df[col2].sum()\n",
    "\n",
    "print('\\nTotal ' + col2 + ': ' + str(sum2))\n",
    "\n",
    "print()\n",
    "print(df.iloc[1].to_string())\n",
    "\n",
    "expected_van = df.iloc[1, 1] / sum2\n",
    "print('\\nExpected van: ' + str(expected_count_1))"
   ]
  },
  {
   "cell_type": "code",
   "execution_count": 19,
   "metadata": {},
   "outputs": [
    {
     "name": "stdout",
     "output_type": "stream",
     "text": [
      "z_leff: -2.0\n",
      "z_right: 1.99\n",
      "cd_left: 0.0228\n",
      "cd_right: 0.9767\n",
      "cd: 0.954\n"
     ]
    }
   ],
   "source": [
    "from scipy.stats import norm\n",
    "\n",
    "mean = 21.02\n",
    "std_dev = 2\n",
    "min = 17.02\n",
    "max = 25\n",
    "\n",
    "z_leff = (min - mean) / std_dev\n",
    "print('z_leff: ' + str(round(z_leff, 2)))\n",
    "\n",
    "z_right = (max - mean) / std_dev\n",
    "print('z_right: ' + str(round(z_right, 2)))\n",
    "\n",
    "cd_left = norm.cdf(z_leff)\n",
    "print('cd_left: ' + str(round(cd_left, 4)))\n",
    "\n",
    "cd_right = norm.cdf(z_right)\n",
    "print('cd_right: ' + str(round(cd_right, 4)))\n",
    "\n",
    "cd = cd_right - cd_left\n",
    "print('cd: ' + str(round(cd, 4)))"
   ]
  },
  {
   "cell_type": "code",
   "execution_count": 20,
   "metadata": {},
   "outputs": [
    {
     "name": "stdout",
     "output_type": "stream",
     "text": [
      "Medicine taken\n",
      "Cold length 777 days or longer:     6\n",
      "Cold length less than 777 days:    19\n",
      "\n",
      "Medicine not taken\n",
      " Cold length 777 days or longer:    27\n",
      "Cold length less than 777 days:    12\n",
      "\n",
      "Total medicines\n",
      " Cold length 777 days or longer:    33\n",
      "Cold length less than 777 days:    31\n",
      "\n",
      "Medicine taken relative frequency\n",
      " Cold length 777 days or longer:    0.181818\n",
      "Cold length less than 777 days:    0.612903\n",
      "\n",
      "Medicine not taken relative frequency\n",
      " Cold length 777 days or longer:    0.818182\n",
      "Cold length less than 777 days:    0.387097\n",
      "\n",
      "Total relative frequencies\n",
      " Cold length 777 days or longer:    1.0\n",
      "Cold length less than 777 days:    1.0\n"
     ]
    }
   ],
   "source": [
    "import pandas as pd # Python | Pandas Series @ https://www.geeksforgeeks.org/python-pandas-series/\n",
    "\n",
    "rows = ('Cold length 777 days or longer:', 'Cold length less than 777 days:')\n",
    "\n",
    "med_taken = pd.Series((6, 19), index=rows) # Medicine taken\n",
    "med_n_taken = pd.Series((27, 12), index=rows) # Medicine not taken\n",
    "print('Medicine taken\\n' + med_taken.to_string())\n",
    "print('\\nMedicine not taken\\n', med_n_taken.to_string())\n",
    "\n",
    "med_totals = med_taken.add(med_n_taken, fill_value=0)\n",
    "print('\\nTotal medicines\\n', med_totals.to_string())\n",
    "\n",
    "rf_med_taken = med_taken.div(med_totals) # Medicine taken relative frequency\n",
    "print('\\nMedicine taken relative frequency\\n', rf_med_taken.to_string())\n",
    "\n",
    "rf_med_n_taken = med_n_taken.div(med_totals) # Medicine not taken relative frequency\n",
    "print('\\nMedicine not taken relative frequency\\n', rf_med_n_taken.to_string())\n",
    "\n",
    "rf_totals = rf_med_taken.add(rf_med_n_taken)\n",
    "print('\\nTotal relative frequencies\\n', rf_totals.to_string())"
   ]
  },
  {
   "cell_type": "code",
   "execution_count": 21,
   "metadata": {},
   "outputs": [
    {
     "name": "stdout",
     "output_type": "stream",
     "text": [
      "abc_in:\n",
      "  1.Mo-Th  2.Fr-Su  Total\n",
      "       0        0    148\n",
      "       0        0     88\n",
      "     136      100    236\n",
      "\n",
      "rel_in:\n",
      "  1.Mo-Th  2.Fr-Su   Total\n",
      "   48.73    13.98   62.71\n",
      "    8.90    28.39   37.29\n",
      "   57.63    42.37  100.00\n",
      "\n",
      "abc_out:\n",
      "  1.Mo-Th  2.Fr-Su  Total\n",
      "   115.0     33.0  148.0\n",
      "    21.0     67.0   88.0\n",
      "   136.0    100.0  236.0\n"
     ]
    }
   ],
   "source": [
    "import pandas as pd\n",
    "\n",
    "col1 = '1.Mo-Th'\n",
    "col2 = '2.Fr-Su'\n",
    "col3 = 'Total'\n",
    "\n",
    "def add_total_row_col(df):\n",
    "    df[col3] = df.sum(axis=1) # Total column.\n",
    "    added_row_num = df.shape[0]\n",
    "    df.loc[added_row_num] = df.sum(axis=0) # Total row.\n",
    "\n",
    "\n",
    "abs_in = pd.DataFrame({\n",
    "    col1: (0,   0,  136),\n",
    "    col2: (0,   0,  100),\n",
    "    col3: (148, 88, 236)\n",
    "})\n",
    "print('abc_in:\\n', abs_in.to_string(index=0))\n",
    "\n",
    "rel_in = pd.DataFrame({\n",
    "    col1: (48.73,   8.90),\n",
    "    col2: (13.98,   28.39)\n",
    "})\n",
    "\n",
    "last_row_num = abs_in.shape[0] - 1\n",
    "abc_out = pd.DataFrame({\n",
    "    col1: round(rel_in[col1] * abs_in.iloc[last_row_num, 2] / 100),\n",
    "    col2: round(rel_in[col2] * abs_in.iloc[last_row_num, 2] / 100)\n",
    "})\n",
    "\n",
    "add_total_row_col(rel_in)\n",
    "print('\\nrel_in:\\n', rel_in.to_string(index=0))\n",
    "\n",
    "add_total_row_col(abc_out)\n",
    "print('\\nabc_out:\\n', abc_out.to_string(index=0))"
   ]
  },
  {
   "cell_type": "code",
   "execution_count": 22,
   "metadata": {},
   "outputs": [
    {
     "name": "stdout",
     "output_type": "stream",
     "text": [
      "0.972\n",
      "0.97\n"
     ]
    }
   ],
   "source": [
    "# Marta makes 90\\%90%90, percent of the free throws she attempts. She is going to shoot 333 free throws. Assume that the results of free throws are independent from each other. Let XXX represent the number of free throws she makes.\n",
    "# Find the probability that Marta makes at least 222 of the 333 free throws.\n",
    "#\n",
    "# P(X≥2)= 0.97\n",
    "\n",
    "pth = 0.9\n",
    "pms = 1 - pth\n",
    "n = 3\n",
    "dec = 2\n",
    "\n",
    "p0 = pow(pms, n)\n",
    "p1 = pow(pms, n - 1) * pth * 3\n",
    "p2 = 1 - (p0 + p1)\n",
    "print(p2)\n",
    "print(round(p2, dec))"
   ]
  },
  {
   "cell_type": "code",
   "execution_count": 23,
   "metadata": {},
   "outputs": [
    {
     "name": "stdout",
     "output_type": "stream",
     "text": [
      "sum: 16\n",
      "len: 4\n",
      "avr: 4.0\n",
      "abs_dev: 2.0\n",
      "MAD1: 0.5\n",
      "\n",
      "MAD2: 0.5\n",
      "\n",
      "MAD3:  0.5\n"
     ]
    }
   ],
   "source": [
    "dist = (3, 5, 4, 4)\n",
    "\n",
    "sum = 0\n",
    "for item in dist:\n",
    "    sum += item\n",
    "print('sum:', sum)\n",
    "\n",
    "avr = sum / len(dist)\n",
    "print('len:', len(dist))\n",
    "print('avr:', avr)\n",
    "\n",
    "abs_dev = 0\n",
    "for item in dist:\n",
    "    abs_dev += abs(item - avr)\n",
    "print('abs_dev:', abs_dev)\n",
    "\n",
    "MAD1 = abs_dev / len(dist)\n",
    "print('MAD1:', MAD1)\n",
    "\n",
    "#2: Absolute mean deviation using numpy # Absolute Deviation and Absolute Mean Deviation using NumPy | Python @ https://www.geeksforgeeks.org/absolute-deviation-and-absolute-mean-deviation-using-numpy-python/\n",
    "from numpy import mean, absolute\n",
    "MAD2 = mean(absolute(dist - mean(dist)))\n",
    "print('\\nMAD2:', MAD2)\n",
    "\n",
    "#3: Absolute mean deviation using pandas\n",
    "import pandas as pd\n",
    "df = pd.DataFrame(dist) # Creating data frame of the given data\n",
    "MAD3 = df.mad() # mad() is mean absolute deviation function\n",
    "print('\\nMAD3:', MAD3.to_string(index=0))"
   ]
  },
  {
   "cell_type": "code",
   "execution_count": 24,
   "metadata": {},
   "outputs": [
    {
     "name": "stdout",
     "output_type": "stream",
     "text": [
      "(1, 2, 3, 3, 4, 4, 4, 6)\n",
      "1.5\n",
      "1.5\n"
     ]
    },
    {
     "data": {
      "image/png": "[encoded data removed]",
      "text/plain": [
       "<Figure size 432x288 with 1 Axes>"
      ]
     },
     "metadata": {
      "needs_background": "light"
     },
     "output_type": "display_data"
    }
   ],
   "source": [
    "import pandas as pd\n",
    "import numpy as np # Interquartile Range and Quartile Deviation using NumPy and SciPy @ https://www.geeksforgeeks.org/interquartile-range-and-quartile-deviation-using-numpy-and-scipy/\n",
    "\n",
    "data = (1, 2, 3, 3, 4, 4, 4, 6)\n",
    "frequency = (1, 1, 1, 2, 1, 2, 3, 1)\n",
    "print(data)\n",
    "\n",
    "# # Interquartile range using numpy.median\n",
    "# Q1 = np.median(data[:10]) # First quartile (Q1)\n",
    "# Q3 = np.median(data[10:]) # Third quartile (Q3)\n",
    "# IQR1 = Q3 - Q1 # Interquartile range (IQR)\n",
    "# print(IQR1)\n",
    "\n",
    "# Interquartile range using numpy.percentile # numpy.percentile @ https://docs.scipy.org/doc/numpy/reference/generated/numpy.percentile.html\n",
    "Q1 = np.percentile(data, 25, interpolation = 'midpoint') # First quartile (Q1)\n",
    "Q3 = np.percentile(data, 75, interpolation = 'midpoint') # Third quartile (Q3)\n",
    "IQR2 = Q3 - Q1 # Interquaritle range (IQR)\n",
    "print(IQR2)\n",
    "\n",
    "# Interquartile range using scipy.stats.iqr # scipy.stats.iqr @ https://docs.scipy.org/doc/scipy-0.19.0/reference/generated/scipy.stats.iqr.html\n",
    "from scipy import stats\n",
    "IQR3 = stats.iqr(data, interpolation ='midpoint') # Interquartile range (IQR)\n",
    "print(IQR3)\n",
    "\n",
    "import matplotlib.pyplot as plt\n",
    "data = {\n",
    "    'a': data,\n",
    "    'b': frequency\n",
    "}\n",
    "plt.scatter('a', 'b', data=data)\n",
    "plt.suptitle('IQR')\n",
    "plt.show()"
   ]
  }
 ],
 "metadata": {
  "kernelspec": {
   "display_name": "Python 3",
   "language": "python",
   "name": "python3"
  },
  "language_info": {
   "codemirror_mode": {
    "name": "ipython",
    "version": 3
   },
   "file_extension": ".py",
   "mimetype": "text/x-python",
   "name": "python",
   "nbconvert_exporter": "python",
   "pygments_lexer": "ipython3",
   "version": "3.7.4"
  }
 },
 "nbformat": 4,
 "nbformat_minor": 2
}
