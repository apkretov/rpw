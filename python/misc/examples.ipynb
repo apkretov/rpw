{
 "cells": [
  {
   "cell_type": "markdown",
   "metadata": {},
   "source": [
    "## scipy.stats.t @ https://docs.scipy.org/doc/scipy/reference/generated/scipy.stats.t.html#scipy.stats.t"
   ]
  },
  {
   "cell_type": "code",
   "execution_count": 14,
   "metadata": {},
   "outputs": [
    {
     "data": {
      "image/png": "[encoded data removed]",
      "text/plain": [
       "<Figure size 432x288 with 1 Axes>"
      ]
     },
     "metadata": {
      "needs_background": "light"
     },
     "output_type": "display_data"
    }
   ],
   "source": [
    "from scipy.stats import t\n",
    "import matplotlib.pyplot as plt\n",
    "import numpy as np\n",
    "fig, ax = plt.subplots(1, 1)\n",
    "\n",
    "# Calculate a few first moments:\n",
    "df = 2.74\n",
    "mean, var, skew, kurt = t.stats(df, moments='mvsk')\n",
    "\n",
    "# Display the probability density function (pdf):\n",
    "x = np.linspace(t.ppf(0.01, df), t.ppf(0.99, df), 100)\n",
    "ax.plot(x, t.pdf(x, df),'r-', lw=5, alpha=0.6, label='t pdf')\n",
    "\n",
    "# Alternatively, the distribution object can be called (as a function) to fix the shape, location and scale \n",
    "# parameters. This returns a “frozen” RV object holding the given parameters fixed.\n",
    "\n",
    "# Freeze the distribution and display the frozen pdf:\n",
    "rv = t(df)\n",
    "ax.plot(x, rv.pdf(x), 'k-', lw=2, label='frozen pdf')\n",
    "\n",
    "# Check accuracy of cdf and ppf:\n",
    "vals = t.ppf([0.001, 0.5, 0.999], df)\n",
    "np.allclose([0.001, 0.5, 0.999], t.cdf(vals, df))\n",
    "\n",
    "# Generate random numbers:\n",
    "r = t.rvs(df, size=1000)\n",
    "\n",
    "# And compare the histogram:\n",
    "ax.hist(r, density=True, histtype='stepfilled', alpha=0.2)\n",
    "ax.legend(loc='best', frameon=False)\n",
    "plt.show()"
   ]
  },
  {
   "cell_type": "markdown",
   "metadata": {},
   "source": [
    "## Python | Pandas Series @ https://www.geeksforgeeks.org/python-pandas-series/"
   ]
  },
  {
   "cell_type": "code",
   "execution_count": 20,
   "metadata": {},
   "outputs": [
    {
     "name": "stdout",
     "output_type": "stream",
     "text": [
      "a    5\n",
      "b    2\n",
      "c    3\n",
      "d    7 \n",
      "\n",
      " a    1\n",
      "b    6\n",
      "d    4\n",
      "e    9\n",
      "\n",
      " a     6.0\n",
      "b     8.0\n",
      "c     3.0\n",
      "d    11.0\n",
      "e     9.0\n"
     ]
    }
   ],
   "source": [
    "import pandas as pd\n",
    "\n",
    "data = pd.Series([5, 2, 3, 7], index=['a', 'b', 'c', 'd']) # creating a series\n",
    "data1 = pd.Series([1, 6, 4, 9], index=['a', 'b', 'd', 'e']) # creating a series\n",
    "print(data.to_string(), \"\\n\\n\", data1.to_string())\n",
    "\n",
    "data2 = data.add(data1, fill_value=0) # Now we add two series using .add() function.\n",
    "print(\"\\n\", data2.to_string())"
   ]
  },
  {
   "cell_type": "markdown",
   "metadata": {},
   "source": [
    "### The same as above but with default indexes."
   ]
  },
  {
   "cell_type": "code",
   "execution_count": 21,
   "metadata": {},
   "outputs": [
    {
     "name": "stdout",
     "output_type": "stream",
     "text": [
      "0    5\n",
      "1    2\n",
      "2    3\n",
      "3    7 \n",
      "\n",
      " 0    1\n",
      "1    6\n",
      "2    4\n",
      "3    9\n",
      "\n",
      " 0     6\n",
      "1     8\n",
      "2     7\n",
      "3    16\n"
     ]
    }
   ],
   "source": [
    "import pandas as pd\n",
    "\n",
    "data = pd.Series([5, 2, 3, 7])\n",
    "data1 = pd.Series([1, 6, 4, 9]) \n",
    "print(data.to_string(), \"\\n\\n\", data1.to_string())\n",
    "\n",
    "data2 = data.add(data1, fill_value=0)\n",
    "print(\"\\n\", data2.to_string())"
   ]
  }
 ],
 "metadata": {
  "kernelspec": {
   "display_name": "Python 3",
   "language": "python",
   "name": "python3"
  },
  "language_info": {
   "codemirror_mode": {
    "name": "ipython",
    "version": 3
   },
   "file_extension": ".py",
   "mimetype": "text/x-python",
   "name": "python",
   "nbconvert_exporter": "python",
   "pygments_lexer": "ipython3",
   "version": "3.7.4"
  }
 },
 "nbformat": 4,
 "nbformat_minor": 2
}
